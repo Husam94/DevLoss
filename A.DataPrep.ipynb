{
 "cells": [
  {
   "cell_type": "code",
   "execution_count": null,
   "metadata": {},
   "outputs": [],
   "source": []
  },
  {
   "cell_type": "code",
   "execution_count": null,
   "metadata": {},
   "outputs": [],
   "source": [
    "import numpy as np\n",
    "import scipy\n",
    "import matplotlib.pyplot as plt\n",
    "\n",
    "import torch.nn as nn\n",
    "\n",
    "#-------------\n",
    "\n",
    "import poseigen_seaside.basics as se\n",
    "import poseigen_seaside.visuals as viz\n",
    "\n",
    "import poseigen_trident.preassembled as pa"
   ]
  },
  {
   "cell_type": "code",
   "execution_count": 3,
   "metadata": {},
   "outputs": [],
   "source": [
    "datafolder = se.NewFolder('data')"
   ]
  },
  {
   "cell_type": "markdown",
   "metadata": {},
   "source": [
    "# Data Prep"
   ]
  },
  {
   "cell_type": "code",
   "execution_count": null,
   "metadata": {},
   "outputs": [],
   "source": [
    "inp_num = 10\n",
    "\n",
    "snx_shared = {'dim_i': (inp_num, 1, 1),\n",
    "              'P1_mods': 4, 'P1_cf_ns': 0, \n",
    "              'P1_cf_i': inp_num, 'P1_cf_pu': inp_num, \n",
    "              'batchnorm': 'before', 'activations': nn.ReLU()}\n",
    "\n",
    "snx1 = {'dim_f': (2, 1, 1), **snx_shared}           # For data generation\n",
    "snx2 = {'dim_f': (1, 1, 1), **snx_shared}           # For modelling\n",
    "\n",
    "se.PickleDump([snx1, snx2], 'snxs')"
   ]
  },
  {
   "cell_type": "code",
   "execution_count": 5,
   "metadata": {},
   "outputs": [
    {
     "data": {
      "text/plain": [
       "SimpNet(\n",
       "  (P1): Sequential(\n",
       "    (0): Conv2d(10, 10, kernel_size=(1, 1), stride=(1, 1), padding=valid)\n",
       "    (1): BatchNorm2d(10, eps=1e-05, momentum=0.1, affine=True, track_running_stats=True)\n",
       "    (2): ReLU()\n",
       "    (3): Conv2d(10, 10, kernel_size=(1, 1), stride=(1, 1), padding=valid)\n",
       "    (4): BatchNorm2d(10, eps=1e-05, momentum=0.1, affine=True, track_running_stats=True)\n",
       "    (5): ReLU()\n",
       "    (6): Conv2d(10, 10, kernel_size=(1, 1), stride=(1, 1), padding=valid)\n",
       "    (7): BatchNorm2d(10, eps=1e-05, momentum=0.1, affine=True, track_running_stats=True)\n",
       "    (8): ReLU()\n",
       "    (9): Conv2d(10, 2, kernel_size=(1, 1), stride=(1, 1), padding=valid)\n",
       "  )\n",
       ")"
      ]
     },
     "execution_count": 5,
     "metadata": {},
     "output_type": "execute_result"
    }
   ],
   "source": [
    "pa.SimpNet(**snx1)"
   ]
  },
  {
   "cell_type": "code",
   "execution_count": 6,
   "metadata": {},
   "outputs": [
    {
     "data": {
      "text/plain": [
       "SimpNet(\n",
       "  (P1): Sequential(\n",
       "    (0): Conv2d(10, 10, kernel_size=(1, 1), stride=(1, 1), padding=valid)\n",
       "    (1): BatchNorm2d(10, eps=1e-05, momentum=0.1, affine=True, track_running_stats=True)\n",
       "    (2): ReLU()\n",
       "    (3): Conv2d(10, 10, kernel_size=(1, 1), stride=(1, 1), padding=valid)\n",
       "    (4): BatchNorm2d(10, eps=1e-05, momentum=0.1, affine=True, track_running_stats=True)\n",
       "    (5): ReLU()\n",
       "    (6): Conv2d(10, 10, kernel_size=(1, 1), stride=(1, 1), padding=valid)\n",
       "    (7): BatchNorm2d(10, eps=1e-05, momentum=0.1, affine=True, track_running_stats=True)\n",
       "    (8): ReLU()\n",
       "    (9): Conv2d(10, 1, kernel_size=(1, 1), stride=(1, 1), padding=valid)\n",
       "  )\n",
       ")"
      ]
     },
     "execution_count": 6,
     "metadata": {},
     "output_type": "execute_result"
    }
   ],
   "source": [
    "pa.SimpNet(**snx2)"
   ]
  },
  {
   "cell_type": "markdown",
   "metadata": {},
   "source": [
    "## Initial Generation\n",
    "make sure both are normally distributed."
   ]
  },
  {
   "cell_type": "code",
   "execution_count": null,
   "metadata": {},
   "outputs": [],
   "source": [
    "# obsx = 1000000\n",
    "\n",
    "# synth_generated = {}\n",
    "\n",
    "# for igenr in np.arange(20):\n",
    "\n",
    "#     SimpNetX1 = pa.SimpNet(**snx1)\n",
    "#     #torch.save(SimpNetX1, datafolder + 'SimpNetX1_' + str(synth_counter) + '.pt')\n",
    "\n",
    "#     synth_X = np.random.uniform(-1, 1, size = (obsx, *(inp_num, 1, 1)))\n",
    "\n",
    "#     synth_Y = tu.TridentPredictor(SimpNetX1, synth_X, batchsize = 512)\n",
    "\n",
    "#     synth_generated[igenr] = {'synth_X': synth_X, 'synth_Y': synth_Y}\n",
    "\n",
    "#     #print(igenr)\n",
    "\n",
    "# se.PickleDump(synth_generated, 'synth_generated')"
   ]
  },
  {
   "cell_type": "code",
   "execution_count": null,
   "metadata": {},
   "outputs": [],
   "source": [
    "# for igner in np.arange(20): \n",
    "#     print(igner)\n",
    "#     plt.figure()\n",
    "#     f, axarr = plt.subplots(1, 2)\n",
    "#     axarr[0].hist(synth_generated[igner]['synth_Y'][:, 0].reshape(-1), bins = 50);\n",
    "#     axarr[1].hist(synth_generated[igner]['synth_Y'][:, 1].reshape(-1), bins = 50);\n",
    "#     # Show/save figure as desired.\n",
    "#     plt.show()"
   ]
  },
  {
   "cell_type": "code",
   "execution_count": null,
   "metadata": {},
   "outputs": [],
   "source": [
    "# synth_generated_passedidx = [0, 2, 3, 4, 5, 6, 8, 14, 18, 19]\n",
    "\n",
    "# synth_generated_filt = {ix: synth_generated[x] for ix, x in enumerate(synth_generated_passedidx)}\n",
    "\n",
    "# se.PickleDump(synth_generated_filt, 'synth_generated_filt')"
   ]
  },
  {
   "cell_type": "markdown",
   "metadata": {},
   "source": [
    "## Synth Data\n",
    "adding noise and selection"
   ]
  },
  {
   "cell_type": "code",
   "execution_count": 7,
   "metadata": {},
   "outputs": [],
   "source": [
    "noise_lvls = [0, 0.5, 1.0] #!!!!!!!!!!!!!!!!!!!!!!!!!!!\n",
    "\n",
    "cent = 0\n",
    "plusminus = 2\n",
    "my_std = 1\n",
    "\n",
    "myclip_a = cent-plusminus\n",
    "myclip_b = cent+plusminus\n",
    "my_mean = (myclip_a + myclip_b) / 2\n",
    "a, b = (myclip_a - my_mean) / my_std, (myclip_b - my_mean) / my_std\n",
    "\n",
    "#------------------------------------------------------------\n",
    "\n",
    "num_obs = [5000, 10000, 20000]\n",
    "\n",
    "replics = 3\n",
    "\n",
    "tre_m, con_m = 200, 10\n",
    "\n",
    "tlim = 1 #number of standard deviations to cut in initial. \n",
    "\n",
    "control_min_reads = 5\n",
    "target_min_reads = 0.1\n",
    "\n",
    "#------------------------------------------------------------\n",
    "\n",
    "fin_bins = 10"
   ]
  },
  {
   "cell_type": "code",
   "execution_count": null,
   "metadata": {},
   "outputs": [],
   "source": [
    "# binx = 10\n",
    "\n",
    "# synth_generated_filt = se.PickleLoad('synth_generated_filt')\n",
    "\n",
    "# synth_data = {}\n",
    "\n",
    "# for syr in synth_generated_filt.keys():\n",
    "    \n",
    "#     synth_data[syr] = {}\n",
    "\n",
    "#     synth_X, synth_Y = [synth_generated_filt[syr][x] for x in ['synth_X', 'synth_Y']]\n",
    "\n",
    "#     lsy = len(synth_Y)\n",
    "\n",
    "#     for inobs, nobs in enumerate(num_obs):\n",
    "\n",
    "#         synth_data[syr][inobs] = {}\n",
    "\n",
    "\n",
    "#         for inx, nx in enumerate(noise_lvls):\n",
    "\n",
    "#             noio = scipy.stats.truncnorm.rvs(a, b, loc = my_mean, scale = my_std, \n",
    "#                                             size = (lsy, 2, 1, 1)) #####################\n",
    "\n",
    "#             synth_Y_noise = synth_Y + (np.std(synth_Y, axis = 0, keepdims=True) * noio * nx) ########\n",
    "\n",
    "#             cutoz = []\n",
    "#             for g in [0, 1]: \n",
    "\n",
    "#                 targ = synth_Y_noise[:, g].reshape(-1)\n",
    "                \n",
    "#                 targ_mean, targ_std = np.mean(targ), np.std(targ)\n",
    "\n",
    "#                 targ_std_lim = tlim * targ_std\n",
    "\n",
    "#                 cuto = (targ > (targ_mean - targ_std_lim)) * (targ < (targ_mean + targ_std_lim))\n",
    "\n",
    "#                 cutoz.append(cuto)\n",
    "\n",
    "#             cutA = cutoz[0] * cutoz[1]\n",
    "\n",
    "#             synth_X_selA, synth_Y_selA = [x[cutA] for x in [synth_X, synth_Y_noise]]\n",
    "\n",
    "#             cut1_num = 10000 * 20\n",
    "\n",
    "#             if len(synth_Y_selA) > cut1_num: \n",
    "#                 print('passed check 1')\n",
    "#             else: \n",
    "#                 print('failed check 1')\n",
    "#                 continue\n",
    "\n",
    "\n",
    "#             Y_selA_bin = np.array([bm.HistBinning(synth_Y_selA[:, g].reshape(-1), bins = binx) \n",
    "#                             for g in [0,1]]).T\n",
    "\n",
    "#             Y_selA_bin_comb = bm.BinsOfBins(Y_selA_bin, uni = [np.arange(binx), np.arange(binx)])\n",
    "\n",
    "#             cutB_idx = bm.Harpoon(Y_selA_bin_comb, nobs)\n",
    "\n",
    "#             print(bm.BinCount(Y_selA_bin_comb[cutB_idx]))\n",
    "\n",
    "#             synth_X_selB, synth_Y_selB = [x[cutB_idx] for x in [synth_X_selA, synth_Y_selA]]\n",
    "\n",
    "#             synth_Y_real_exp = []\n",
    "#             for g, mo in zip([0, 1], [tre_m, con_m]): \n",
    "\n",
    "#                 psu = control_min_reads if g == 1 else target_min_reads #$$$$$$$$$$$$$$$$$$$$$$$$$$$$$$$\n",
    "\n",
    "#                 targ2 = synth_Y_selB[:, g].reshape(-1)\n",
    "#                 targ2_shift = targ2 - np.min(targ2)\n",
    "#                 targ2_ms = targ2_shift / np.max(targ2_shift)\n",
    "#                 targ2_red = (targ2_ms * mo) + psu #$$$$$$$$$$$$$$$$$$$$$$$$$$$$$$$\n",
    "#                 synth_Y_real_exp.append(targ2_red)\n",
    "\n",
    "#             synth_Y_real_exp = np.array(synth_Y_real_exp).T\n",
    "\n",
    "#             synth_Y_real_mod = tu.BetaPrime_Mode(*[synth_Y_real_exp.T[g] for g in [0, 1]])\n",
    "\n",
    "#             synth_Y_reps = np.array([[scipy.stats.gamma.rvs(tar, size = replics) \n",
    "#                                     for tar in red]\n",
    "#                                     for red in synth_Y_real_exp]) # Now shape (num, type, reps)\n",
    "\n",
    "#             synth_Y_reps_exp = np.mean(synth_Y_reps, axis = -1) # Now shape (num, type)\n",
    "\n",
    "#             synth_Y_reps_mod = tu.BetaPrime_Mode(*[synth_Y_reps_exp.T[g] for g in [0, 1]])\n",
    "\n",
    "#             ######################################################################\n",
    "\n",
    "#             # Now Bin using Tanh because the distro is right skewed. \n",
    "\n",
    "\n",
    "#             obs_bind = bm.HistBinning(synth_Y_reps_mod.reshape(-1), bins = fin_bins)\n",
    "\n",
    "#             print(bm.BinCount(obs_bind, uni = np.arange(fin_bins), multi = False))\n",
    "\n",
    "\n",
    "#             ######################################################################\n",
    "\n",
    "#             synth_Y_reps_mod, synth_Y_real_mod = [x.reshape(-1, 1, 1, 1) for x in [synth_Y_reps_mod, synth_Y_real_mod]]\n",
    "#             synth_Y_reps_exp, synth_Y_real_exp = [x.reshape(-1, 1, 1, 1, 2) for x in [synth_Y_reps_exp, synth_Y_real_exp]]\n",
    "#             obs_bind = obs_bind.reshape(-1, 1, 1, 1)\n",
    "\n",
    "#             synth_data[syr][inobs][inx] = {'d_x': synth_X_selB, \n",
    "#                                                      'd_mode': synth_Y_reps_mod, 'd_mode_log': np.log(1+synth_Y_reps_mod),\n",
    "#                                                      'd_exp': synth_Y_reps_exp, \n",
    "#                                                      'd_b': obs_bind,\n",
    "#                                                      'r_mode': synth_Y_real_mod, 'r_exp': synth_Y_real_exp}\n",
    "\n",
    "#     #####################################################\n",
    "\n",
    "#     print(f'Finished: {syr}')\n",
    "\n",
    "# se.PickleDump(synth_data, datafolder + 'synth_data')"
   ]
  },
  {
   "cell_type": "code",
   "execution_count": 9,
   "metadata": {},
   "outputs": [],
   "source": [
    "# ##### Now need to do the splits: \n",
    "\n",
    "# synth_data = se.PickleLoad(datafolder + 'synth_data')\n",
    "\n",
    "# props = [0.6, 0.2, 0.2]\n",
    "\n",
    "# synth_splits = {syr: \n",
    "#                 {inobs: \n",
    "#                  {inx: bm.SimpleStratifiedSplit(synth_data[syr][inobs][inx]['d_b'], props, prints = True)\n",
    "#                               for inx, nx in enumerate(noise_lvls)}\n",
    "#                               for inobs, nobs in enumerate(num_obs)}\n",
    "#                               for syr in synth_data.keys()}\n",
    "\n",
    "# se.PickleDump(synth_splits, datafolder + 'synth_splits')"
   ]
  },
  {
   "cell_type": "code",
   "execution_count": null,
   "metadata": {},
   "outputs": [
    {
     "data": {
      "image/png": "[encoded data removed]",
      "text/plain": [
       "<Figure size 675x225 with 3 Axes>"
      ]
     },
     "metadata": {},
     "output_type": "display_data"
    }
   ],
   "source": [
    "synth_data = se.PickleLoad(datafolder + 'synth_data')\n",
    "\n",
    "origo_Y = np.random.uniform(-1, 1, 1000)\n",
    "\n",
    "y_noised = []\n",
    "\n",
    "for inx, nx in enumerate(noise_lvls):\n",
    "\n",
    "    noiso = scipy.stats.truncnorm.rvs(a, b, loc = my_mean, scale = my_std,\n",
    "                                      size = (1000))\n",
    "\n",
    "    synth_Y_noise = origo_Y + np.std(origo_Y) * noiso * nx\n",
    "\n",
    "    y_noised.append([origo_Y, synth_Y_noise])\n",
    "\n",
    "mine, maxe = se.MinMax(np.stack([x[1] for x in y_noised]))\n",
    "mix = np.max([np.max(np.abs(x[1])) for x in y_noised])\n",
    "\n",
    "sca_args = {'bounds': (mine, maxe), 'alpha': 0.1, 'pointsize': 5,\n",
    "           'xlabel': 'Original', 'ylabel': 'Noised', 'color': 'black'}\n",
    "\n",
    "noise_ids = ['N'+str(1+x) for x in np.arange(len(noise_lvls))] \n",
    "\n",
    "gex = 2.25\n",
    "\n",
    "mp_args = {'plt_mode': [viz.ScaPlot, sca_args], \n",
    "           'multi': False, 'paired': False, 'transpose': False, \n",
    "           'columntitle': noise_ids,\n",
    "           'sharex': True, 'sharey': True,\n",
    "           'figsize': (gex * 3, gex)} \n",
    "\n",
    "\n",
    "viz.MultiPlot(y_noised, **mp_args);"
   ]
  }
 ],
 "metadata": {
  "kernelspec": {
   "display_name": "new",
   "language": "python",
   "name": "python3"
  },
  "language_info": {
   "codemirror_mode": {
    "name": "ipython",
    "version": 3
   },
   "file_extension": ".py",
   "mimetype": "text/x-python",
   "name": "python",
   "nbconvert_exporter": "python",
   "pygments_lexer": "ipython3",
   "version": "3.13.2"
  }
 },
 "nbformat": 4,
 "nbformat_minor": 2
}
